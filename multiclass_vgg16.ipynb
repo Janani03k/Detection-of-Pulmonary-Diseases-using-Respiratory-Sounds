{
  "cells": [
    {
      "cell_type": "code",
      "execution_count": null,
      "metadata": {
        "id": "YF452RSZIKf_"
      },
      "outputs": [],
      "source": [
        "from tensorflow.keras.applications.vgg16 import VGG16\n",
        "from tensorflow.keras.applications.vgg16 import preprocess_input\n",
        "from tensorflow.keras.models import Model, Sequential\n",
        "from tensorflow.keras.preprocessing.image import ImageDataGenerator\n",
        "from tensorflow.keras.optimizers import Adam\n",
        "from tensorflow.keras.layers import Dense, Conv2D, MaxPool2D , Flatten\n",
        "from tensorflow.keras.losses import categorical_crossentropy\n",
        "from tensorflow.keras.callbacks import ModelCheckpoint, EarlyStopping\n",
        "from tensorflow.keras import metrics\n",
        "\n",
        "from sklearn.utils import class_weight\n",
        "from collections import Counter\n",
        "\n",
        "import matplotlib.pyplot as plt\n",
        "\n",
        "from os import listdir\n",
        "from os.path import isfile, join\n",
        "\n",
        "import pandas as pd"
      ]
    },
    {
      "cell_type": "code",
      "execution_count": null,
      "metadata": {
        "colab": {
          "base_uri": "https://localhost:8080/"
        },
        "id": "YNGFsAvbmVuD",
        "outputId": "500e176e-fab1-438e-d9c4-01081c2be98c"
      },
      "outputs": [
        {
          "name": "stdout",
          "output_type": "stream",
          "text": [
            "Mounted at /content/drive\n"
          ]
        }
      ],
      "source": [
        "from google.colab import drive\n",
        "drive.mount('/content/drive')"
      ]
    },
    {
      "cell_type": "code",
      "execution_count": null,
      "metadata": {
        "id": "JAOqXYtLjt6w"
      },
      "outputs": [],
      "source": [
        "train_loc = '/content/drive/MyDrive/Projects mentored/23-jan/output/output3/train'\n",
        "test_loc = '/content/drive/MyDrive/Projects mentored/23-jan/output/output3/val'"
      ]
    },
    {
      "cell_type": "code",
      "execution_count": null,
      "metadata": {
        "colab": {
          "base_uri": "https://localhost:8080/"
        },
        "id": "K4MKkatKjto1",
        "outputId": "60ad85d3-3620-4a9d-e168-6c0afe903686"
      },
      "outputs": [
        {
          "name": "stdout",
          "output_type": "stream",
          "text": [
            "Found 5515 images belonging to 8 classes.\n",
            "Found 1383 images belonging to 8 classes.\n"
          ]
        }
      ],
      "source": [
        "trdata = ImageDataGenerator()\n",
        "traindata = trdata.flow_from_directory(directory=train_loc, target_size=(224,224))\n",
        "tsdata = ImageDataGenerator()\n",
        "testdata = tsdata.flow_from_directory(directory=test_loc, target_size=(224,224))"
      ]
    },
    {
      "cell_type": "code",
      "execution_count": null,
      "metadata": {
        "colab": {
          "base_uri": "https://localhost:8080/",
          "height": 206
        },
        "id": "QSAhK9MojtJg",
        "outputId": "59f5c6c1-a644-49e5-94b7-02927be09567"
      },
      "outputs": [
        {
          "data": {
            "text/html": [
              "\n",
              "  <div id=\"df-b7528305-eb6b-4053-b739-29226fc37a1d\" class=\"colab-df-container\">\n",
              "    <div>\n",
              "<style scoped>\n",
              "    .dataframe tbody tr th:only-of-type {\n",
              "        vertical-align: middle;\n",
              "    }\n",
              "\n",
              "    .dataframe tbody tr th {\n",
              "        vertical-align: top;\n",
              "    }\n",
              "\n",
              "    .dataframe thead th {\n",
              "        text-align: right;\n",
              "    }\n",
              "</style>\n",
              "<table border=\"1\" class=\"dataframe\">\n",
              "  <thead>\n",
              "    <tr style=\"text-align: right;\">\n",
              "      <th></th>\n",
              "      <th>pId</th>\n",
              "      <th>diagnosis</th>\n",
              "    </tr>\n",
              "  </thead>\n",
              "  <tbody>\n",
              "    <tr>\n",
              "      <th>0</th>\n",
              "      <td>101</td>\n",
              "      <td>URTI</td>\n",
              "    </tr>\n",
              "    <tr>\n",
              "      <th>1</th>\n",
              "      <td>102</td>\n",
              "      <td>Healthy</td>\n",
              "    </tr>\n",
              "    <tr>\n",
              "      <th>2</th>\n",
              "      <td>103</td>\n",
              "      <td>Asthma</td>\n",
              "    </tr>\n",
              "    <tr>\n",
              "      <th>3</th>\n",
              "      <td>104</td>\n",
              "      <td>COPD</td>\n",
              "    </tr>\n",
              "    <tr>\n",
              "      <th>4</th>\n",
              "      <td>105</td>\n",
              "      <td>URTI</td>\n",
              "    </tr>\n",
              "  </tbody>\n",
              "</table>\n",
              "</div>\n",
              "    <div class=\"colab-df-buttons\">\n",
              "\n",
              "  <div class=\"colab-df-container\">\n",
              "    <button class=\"colab-df-convert\" onclick=\"convertToInteractive('df-b7528305-eb6b-4053-b739-29226fc37a1d')\"\n",
              "            title=\"Convert this dataframe to an interactive table.\"\n",
              "            style=\"display:none;\">\n",
              "\n",
              "  <svg xmlns=\"http://www.w3.org/2000/svg\" height=\"24px\" viewBox=\"0 -960 960 960\">\n",
              "    <path d=\"M120-120v-720h720v720H120Zm60-500h600v-160H180v160Zm220 220h160v-160H400v160Zm0 220h160v-160H400v160ZM180-400h160v-160H180v160Zm440 0h160v-160H620v160ZM180-180h160v-160H180v160Zm440 0h160v-160H620v160Z\"/>\n",
              "  </svg>\n",
              "    </button>\n",
              "\n",
              "  <style>\n",
              "    .colab-df-container {\n",
              "      display:flex;\n",
              "      gap: 12px;\n",
              "    }\n",
              "\n",
              "    .colab-df-convert {\n",
              "      background-color: #E8F0FE;\n",
              "      border: none;\n",
              "      border-radius: 50%;\n",
              "      cursor: pointer;\n",
              "      display: none;\n",
              "      fill: #1967D2;\n",
              "      height: 32px;\n",
              "      padding: 0 0 0 0;\n",
              "      width: 32px;\n",
              "    }\n",
              "\n",
              "    .colab-df-convert:hover {\n",
              "      background-color: #E2EBFA;\n",
              "      box-shadow: 0px 1px 2px rgba(60, 64, 67, 0.3), 0px 1px 3px 1px rgba(60, 64, 67, 0.15);\n",
              "      fill: #174EA6;\n",
              "    }\n",
              "\n",
              "    .colab-df-buttons div {\n",
              "      margin-bottom: 4px;\n",
              "    }\n",
              "\n",
              "    [theme=dark] .colab-df-convert {\n",
              "      background-color: #3B4455;\n",
              "      fill: #D2E3FC;\n",
              "    }\n",
              "\n",
              "    [theme=dark] .colab-df-convert:hover {\n",
              "      background-color: #434B5C;\n",
              "      box-shadow: 0px 1px 3px 1px rgba(0, 0, 0, 0.15);\n",
              "      filter: drop-shadow(0px 1px 2px rgba(0, 0, 0, 0.3));\n",
              "      fill: #FFFFFF;\n",
              "    }\n",
              "  </style>\n",
              "\n",
              "    <script>\n",
              "      const buttonEl =\n",
              "        document.querySelector('#df-b7528305-eb6b-4053-b739-29226fc37a1d button.colab-df-convert');\n",
              "      buttonEl.style.display =\n",
              "        google.colab.kernel.accessAllowed ? 'block' : 'none';\n",
              "\n",
              "      async function convertToInteractive(key) {\n",
              "        const element = document.querySelector('#df-b7528305-eb6b-4053-b739-29226fc37a1d');\n",
              "        const dataTable =\n",
              "          await google.colab.kernel.invokeFunction('convertToInteractive',\n",
              "                                                    [key], {});\n",
              "        if (!dataTable) return;\n",
              "\n",
              "        const docLinkHtml = 'Like what you see? Visit the ' +\n",
              "          '<a target=\"_blank\" href=https://colab.research.google.com/notebooks/data_table.ipynb>data table notebook</a>'\n",
              "          + ' to learn more about interactive tables.';\n",
              "        element.innerHTML = '';\n",
              "        dataTable['output_type'] = 'display_data';\n",
              "        await google.colab.output.renderOutput(dataTable, element);\n",
              "        const docLink = document.createElement('div');\n",
              "        docLink.innerHTML = docLinkHtml;\n",
              "        element.appendChild(docLink);\n",
              "      }\n",
              "    </script>\n",
              "  </div>\n",
              "\n",
              "\n",
              "<div id=\"df-04e760dc-79f7-4104-b430-dfbafb88f26a\">\n",
              "  <button class=\"colab-df-quickchart\" onclick=\"quickchart('df-04e760dc-79f7-4104-b430-dfbafb88f26a')\"\n",
              "            title=\"Suggest charts\"\n",
              "            style=\"display:none;\">\n",
              "\n",
              "<svg xmlns=\"http://www.w3.org/2000/svg\" height=\"24px\"viewBox=\"0 0 24 24\"\n",
              "     width=\"24px\">\n",
              "    <g>\n",
              "        <path d=\"M19 3H5c-1.1 0-2 .9-2 2v14c0 1.1.9 2 2 2h14c1.1 0 2-.9 2-2V5c0-1.1-.9-2-2-2zM9 17H7v-7h2v7zm4 0h-2V7h2v10zm4 0h-2v-4h2v4z\"/>\n",
              "    </g>\n",
              "</svg>\n",
              "  </button>\n",
              "\n",
              "<style>\n",
              "  .colab-df-quickchart {\n",
              "      --bg-color: #E8F0FE;\n",
              "      --fill-color: #1967D2;\n",
              "      --hover-bg-color: #E2EBFA;\n",
              "      --hover-fill-color: #174EA6;\n",
              "      --disabled-fill-color: #AAA;\n",
              "      --disabled-bg-color: #DDD;\n",
              "  }\n",
              "\n",
              "  [theme=dark] .colab-df-quickchart {\n",
              "      --bg-color: #3B4455;\n",
              "      --fill-color: #D2E3FC;\n",
              "      --hover-bg-color: #434B5C;\n",
              "      --hover-fill-color: #FFFFFF;\n",
              "      --disabled-bg-color: #3B4455;\n",
              "      --disabled-fill-color: #666;\n",
              "  }\n",
              "\n",
              "  .colab-df-quickchart {\n",
              "    background-color: var(--bg-color);\n",
              "    border: none;\n",
              "    border-radius: 50%;\n",
              "    cursor: pointer;\n",
              "    display: none;\n",
              "    fill: var(--fill-color);\n",
              "    height: 32px;\n",
              "    padding: 0;\n",
              "    width: 32px;\n",
              "  }\n",
              "\n",
              "  .colab-df-quickchart:hover {\n",
              "    background-color: var(--hover-bg-color);\n",
              "    box-shadow: 0 1px 2px rgba(60, 64, 67, 0.3), 0 1px 3px 1px rgba(60, 64, 67, 0.15);\n",
              "    fill: var(--button-hover-fill-color);\n",
              "  }\n",
              "\n",
              "  .colab-df-quickchart-complete:disabled,\n",
              "  .colab-df-quickchart-complete:disabled:hover {\n",
              "    background-color: var(--disabled-bg-color);\n",
              "    fill: var(--disabled-fill-color);\n",
              "    box-shadow: none;\n",
              "  }\n",
              "\n",
              "  .colab-df-spinner {\n",
              "    border: 2px solid var(--fill-color);\n",
              "    border-color: transparent;\n",
              "    border-bottom-color: var(--fill-color);\n",
              "    animation:\n",
              "      spin 1s steps(1) infinite;\n",
              "  }\n",
              "\n",
              "  @keyframes spin {\n",
              "    0% {\n",
              "      border-color: transparent;\n",
              "      border-bottom-color: var(--fill-color);\n",
              "      border-left-color: var(--fill-color);\n",
              "    }\n",
              "    20% {\n",
              "      border-color: transparent;\n",
              "      border-left-color: var(--fill-color);\n",
              "      border-top-color: var(--fill-color);\n",
              "    }\n",
              "    30% {\n",
              "      border-color: transparent;\n",
              "      border-left-color: var(--fill-color);\n",
              "      border-top-color: var(--fill-color);\n",
              "      border-right-color: var(--fill-color);\n",
              "    }\n",
              "    40% {\n",
              "      border-color: transparent;\n",
              "      border-right-color: var(--fill-color);\n",
              "      border-top-color: var(--fill-color);\n",
              "    }\n",
              "    60% {\n",
              "      border-color: transparent;\n",
              "      border-right-color: var(--fill-color);\n",
              "    }\n",
              "    80% {\n",
              "      border-color: transparent;\n",
              "      border-right-color: var(--fill-color);\n",
              "      border-bottom-color: var(--fill-color);\n",
              "    }\n",
              "    90% {\n",
              "      border-color: transparent;\n",
              "      border-bottom-color: var(--fill-color);\n",
              "    }\n",
              "  }\n",
              "</style>\n",
              "\n",
              "  <script>\n",
              "    async function quickchart(key) {\n",
              "      const quickchartButtonEl =\n",
              "        document.querySelector('#' + key + ' button');\n",
              "      quickchartButtonEl.disabled = true;  // To prevent multiple clicks.\n",
              "      quickchartButtonEl.classList.add('colab-df-spinner');\n",
              "      try {\n",
              "        const charts = await google.colab.kernel.invokeFunction(\n",
              "            'suggestCharts', [key], {});\n",
              "      } catch (error) {\n",
              "        console.error('Error during call to suggestCharts:', error);\n",
              "      }\n",
              "      quickchartButtonEl.classList.remove('colab-df-spinner');\n",
              "      quickchartButtonEl.classList.add('colab-df-quickchart-complete');\n",
              "    }\n",
              "    (() => {\n",
              "      let quickchartButtonEl =\n",
              "        document.querySelector('#df-04e760dc-79f7-4104-b430-dfbafb88f26a button');\n",
              "      quickchartButtonEl.style.display =\n",
              "        google.colab.kernel.accessAllowed ? 'block' : 'none';\n",
              "    })();\n",
              "  </script>\n",
              "</div>\n",
              "    </div>\n",
              "  </div>\n"
            ],
            "text/plain": [
              "   pId diagnosis\n",
              "0  101      URTI\n",
              "1  102   Healthy\n",
              "2  103    Asthma\n",
              "3  104      COPD\n",
              "4  105      URTI"
            ]
          },
          "execution_count": 5,
          "metadata": {},
          "output_type": "execute_result"
        }
      ],
      "source": [
        "diagnosis_csv = '/content/drive/MyDrive/Projects mentored/23-jan/output/output3/patient_diagnosis.csv'\n",
        "diagnosis = pd.read_csv(diagnosis_csv, names=['pId', 'diagnosis'])\n",
        "diagnosis.head()"
      ]
    },
    {
      "cell_type": "code",
      "execution_count": null,
      "metadata": {
        "colab": {
          "base_uri": "https://localhost:8080/"
        },
        "id": "FIU-QcIRnlpS",
        "outputId": "e5ee2f1e-3874-4c39-ae9c-ef1cdc819e46"
      },
      "outputs": [
        {
          "data": {
            "text/plain": [
              "array(['URTI', 'Healthy', 'Asthma', 'COPD', 'LRTI', 'Bronchiectasis',\n",
              "       'Pneumonia', 'Bronchiolitis'], dtype=object)"
            ]
          },
          "execution_count": 6,
          "metadata": {},
          "output_type": "execute_result"
        }
      ],
      "source": [
        "categories = diagnosis['diagnosis'].unique()\n",
        "categories"
      ]
    },
    {
      "cell_type": "code",
      "execution_count": null,
      "metadata": {
        "colab": {
          "base_uri": "https://localhost:8080/"
        },
        "id": "CHjm3AzKnoUZ",
        "outputId": "f852e162-9ec8-404a-8911-6999e2d74371"
      },
      "outputs": [
        {
          "name": "stdout",
          "output_type": "stream",
          "text": [
            "Downloading data from https://storage.googleapis.com/tensorflow/keras-applications/vgg16/vgg16_weights_tf_dim_ordering_tf_kernels.h5\n",
            "553467096/553467096 [==============================] - 3s 0us/step\n",
            "Model: \"vgg16\"\n",
            "_________________________________________________________________\n",
            " Layer (type)                Output Shape              Param #   \n",
            "=================================================================\n",
            " input_1 (InputLayer)        [(None, 224, 224, 3)]     0         \n",
            "                                                                 \n",
            " block1_conv1 (Conv2D)       (None, 224, 224, 64)      1792      \n",
            "                                                                 \n",
            " block1_conv2 (Conv2D)       (None, 224, 224, 64)      36928     \n",
            "                                                                 \n",
            " block1_pool (MaxPooling2D)  (None, 112, 112, 64)      0         \n",
            "                                                                 \n",
            " block2_conv1 (Conv2D)       (None, 112, 112, 128)     73856     \n",
            "                                                                 \n",
            " block2_conv2 (Conv2D)       (None, 112, 112, 128)     147584    \n",
            "                                                                 \n",
            " block2_pool (MaxPooling2D)  (None, 56, 56, 128)       0         \n",
            "                                                                 \n",
            " block3_conv1 (Conv2D)       (None, 56, 56, 256)       295168    \n",
            "                                                                 \n",
            " block3_conv2 (Conv2D)       (None, 56, 56, 256)       590080    \n",
            "                                                                 \n",
            " block3_conv3 (Conv2D)       (None, 56, 56, 256)       590080    \n",
            "                                                                 \n",
            " block3_pool (MaxPooling2D)  (None, 28, 28, 256)       0         \n",
            "                                                                 \n",
            " block4_conv1 (Conv2D)       (None, 28, 28, 512)       1180160   \n",
            "                                                                 \n",
            " block4_conv2 (Conv2D)       (None, 28, 28, 512)       2359808   \n",
            "                                                                 \n",
            " block4_conv3 (Conv2D)       (None, 28, 28, 512)       2359808   \n",
            "                                                                 \n",
            " block4_pool (MaxPooling2D)  (None, 14, 14, 512)       0         \n",
            "                                                                 \n",
            " block5_conv1 (Conv2D)       (None, 14, 14, 512)       2359808   \n",
            "                                                                 \n",
            " block5_conv2 (Conv2D)       (None, 14, 14, 512)       2359808   \n",
            "                                                                 \n",
            " block5_conv3 (Conv2D)       (None, 14, 14, 512)       2359808   \n",
            "                                                                 \n",
            " block5_pool (MaxPooling2D)  (None, 7, 7, 512)         0         \n",
            "                                                                 \n",
            " flatten (Flatten)           (None, 25088)             0         \n",
            "                                                                 \n",
            " fc1 (Dense)                 (None, 4096)              102764544 \n",
            "                                                                 \n",
            " fc2 (Dense)                 (None, 4096)              16781312  \n",
            "                                                                 \n",
            " predictions (Dense)         (None, 1000)              4097000   \n",
            "                                                                 \n",
            "=================================================================\n",
            "Total params: 138357544 (527.79 MB)\n",
            "Trainable params: 138357544 (527.79 MB)\n",
            "Non-trainable params: 0 (0.00 Byte)\n",
            "_________________________________________________________________\n"
          ]
        }
      ],
      "source": [
        "vgg16 = VGG16(weights='imagenet')\n",
        "vgg16.summary()\n",
        "\n",
        "x  = vgg16.get_layer('fc2').output\n",
        "prediction = Dense(8, activation='softmax', name='predictions')(x)\n",
        "\n",
        "model = Model(inputs=vgg16.input, outputs=prediction)"
      ]
    },
    {
      "cell_type": "code",
      "execution_count": null,
      "metadata": {
        "colab": {
          "base_uri": "https://localhost:8080/"
        },
        "id": "DuRroEgrnrXL",
        "outputId": "899ac0d1-3fbf-4a01-a1f1-e439db72a3b2"
      },
      "outputs": [
        {
          "name": "stdout",
          "output_type": "stream",
          "text": [
            "Layer 'block1_pool' is trainable\n",
            "Layer 'block2_conv1' is trainable\n",
            "Layer 'block2_conv2' is trainable\n",
            "Layer 'block2_pool' is trainable\n",
            "Layer 'block3_conv1' is trainable\n",
            "Layer 'block3_conv2' is trainable\n",
            "Layer 'block3_conv3' is trainable\n",
            "Layer 'block3_pool' is trainable\n",
            "Layer 'block4_conv1' is trainable\n",
            "Layer 'block4_conv2' is trainable\n",
            "Layer 'block4_conv3' is trainable\n",
            "Layer 'block4_pool' is trainable\n",
            "Layer 'block5_conv1' is trainable\n",
            "Layer 'block5_conv2' is trainable\n",
            "Layer 'block5_conv3' is trainable\n",
            "Layer 'block5_pool' is trainable\n",
            "Layer 'flatten' is trainable\n",
            "Layer 'fc1' is trainable\n",
            "Layer 'fc2' is trainable\n",
            "Layer 'predictions' is trainable\n"
          ]
        }
      ],
      "source": [
        "for layer in model.layers:\n",
        "    layer.trainable = False\n",
        "\n",
        "for layer in model.layers[-20:]:\n",
        "    layer.trainable = True\n",
        "    print(\"Layer '%s' is trainable\" % layer.name)"
      ]
    },
    {
      "cell_type": "code",
      "execution_count": null,
      "metadata": {
        "colab": {
          "base_uri": "https://localhost:8080/"
        },
        "id": "cqXeneYvnr02",
        "outputId": "f6391397-64ab-4e30-cebd-7d6876a2f194"
      },
      "outputs": [
        {
          "name": "stderr",
          "output_type": "stream",
          "text": [
            "WARNING:absl:`lr` is deprecated in Keras optimizer, please use `learning_rate` or use the legacy optimizer, e.g.,tf.keras.optimizers.legacy.Adam.\n"
          ]
        },
        {
          "name": "stdout",
          "output_type": "stream",
          "text": [
            "Model: \"model\"\n",
            "_________________________________________________________________\n",
            " Layer (type)                Output Shape              Param #   \n",
            "=================================================================\n",
            " input_1 (InputLayer)        [(None, 224, 224, 3)]     0         \n",
            "                                                                 \n",
            " block1_conv1 (Conv2D)       (None, 224, 224, 64)      1792      \n",
            "                                                                 \n",
            " block1_conv2 (Conv2D)       (None, 224, 224, 64)      36928     \n",
            "                                                                 \n",
            " block1_pool (MaxPooling2D)  (None, 112, 112, 64)      0         \n",
            "                                                                 \n",
            " block2_conv1 (Conv2D)       (None, 112, 112, 128)     73856     \n",
            "                                                                 \n",
            " block2_conv2 (Conv2D)       (None, 112, 112, 128)     147584    \n",
            "                                                                 \n",
            " block2_pool (MaxPooling2D)  (None, 56, 56, 128)       0         \n",
            "                                                                 \n",
            " block3_conv1 (Conv2D)       (None, 56, 56, 256)       295168    \n",
            "                                                                 \n",
            " block3_conv2 (Conv2D)       (None, 56, 56, 256)       590080    \n",
            "                                                                 \n",
            " block3_conv3 (Conv2D)       (None, 56, 56, 256)       590080    \n",
            "                                                                 \n",
            " block3_pool (MaxPooling2D)  (None, 28, 28, 256)       0         \n",
            "                                                                 \n",
            " block4_conv1 (Conv2D)       (None, 28, 28, 512)       1180160   \n",
            "                                                                 \n",
            " block4_conv2 (Conv2D)       (None, 28, 28, 512)       2359808   \n",
            "                                                                 \n",
            " block4_conv3 (Conv2D)       (None, 28, 28, 512)       2359808   \n",
            "                                                                 \n",
            " block4_pool (MaxPooling2D)  (None, 14, 14, 512)       0         \n",
            "                                                                 \n",
            " block5_conv1 (Conv2D)       (None, 14, 14, 512)       2359808   \n",
            "                                                                 \n",
            " block5_conv2 (Conv2D)       (None, 14, 14, 512)       2359808   \n",
            "                                                                 \n",
            " block5_conv3 (Conv2D)       (None, 14, 14, 512)       2359808   \n",
            "                                                                 \n",
            " block5_pool (MaxPooling2D)  (None, 7, 7, 512)         0         \n",
            "                                                                 \n",
            " flatten (Flatten)           (None, 25088)             0         \n",
            "                                                                 \n",
            " fc1 (Dense)                 (None, 4096)              102764544 \n",
            "                                                                 \n",
            " fc2 (Dense)                 (None, 4096)              16781312  \n",
            "                                                                 \n",
            " predictions (Dense)         (None, 8)                 32776     \n",
            "                                                                 \n",
            "=================================================================\n",
            "Total params: 134293320 (512.29 MB)\n",
            "Trainable params: 134254600 (512.14 MB)\n",
            "Non-trainable params: 38720 (151.25 KB)\n",
            "_________________________________________________________________\n"
          ]
        }
      ],
      "source": [
        "opt = Adam(lr=0.000001)\n",
        "model.compile(optimizer=opt, loss=categorical_crossentropy,\n",
        "              metrics=['accuracy', 'mae'])\n",
        "model.summary()"
      ]
    },
    {
      "cell_type": "code",
      "execution_count": null,
      "metadata": {
        "id": "ujlZUDdPntOc"
      },
      "outputs": [],
      "source": [
        "checkpoint = ModelCheckpoint(\"vgg16_base_res.h5\", monitor='val_accuracy', verbose=1,\n",
        "                             save_best_only=True, save_weights_only=False, mode='auto')\n",
        "early = EarlyStopping(monitor='val_accuracy', min_delta=0, patience=20, verbose=1, mode='auto')"
      ]
    },
    {
      "cell_type": "code",
      "execution_count": null,
      "metadata": {
        "colab": {
          "base_uri": "https://localhost:8080/"
        },
        "id": "VpYeqC_8nvQs",
        "outputId": "dfa5ae1f-38e7-4af7-9fdb-70ff794c79b4"
      },
      "outputs": [
        {
          "data": {
            "text/plain": [
              "{0: 1149.0,\n",
              " 1: 55.373493975903614,\n",
              " 2: 35.90625,\n",
              " 3: 1.0,\n",
              " 4: 17.883268482490273,\n",
              " 5: 183.84,\n",
              " 6: 20.157894736842106,\n",
              " 7: 23.690721649484537}"
            ]
          },
          "execution_count": 11,
          "metadata": {},
          "output_type": "execute_result"
        }
      ],
      "source": [
        "counter = Counter(traindata.classes)\n",
        "max_val = float(max(counter.values()))\n",
        "class_weights = {class_id : max_val/num_images for class_id, num_images in counter.items()}\n",
        "class_weights"
      ]
    },
    {
      "cell_type": "code",
      "execution_count": null,
      "metadata": {
        "colab": {
          "background_save": true,
          "base_uri": "https://localhost:8080/"
        },
        "id": "AKqB3Itenwp0",
        "outputId": "a2b07b54-fc7e-415b-c971-b304b3cb01c3"
      },
      "outputs": [
        {
          "name": "stdout",
          "output_type": "stream",
          "text": [
            "Epoch 1/100\n",
            "172/172 [==============================] - ETA: 0s - loss: 42.6013 - accuracy: 0.1413 - mae: 0.2099 \n",
            "Epoch 1: val_accuracy improved from -inf to 0.01817, saving model to vgg16_base_res.h5\n"
          ]
        },
        {
          "name": "stderr",
          "output_type": "stream",
          "text": [
            "/usr/local/lib/python3.10/dist-packages/keras/src/engine/training.py:3079: UserWarning: You are saving your model as an HDF5 file via `model.save()`. This file format is considered legacy. We recommend using instead the native Keras format, e.g. `model.save('my_model.keras')`.\n",
            "  saving_api.save_model(\n"
          ]
        },
        {
          "name": "stdout",
          "output_type": "stream",
          "text": [
            "172/172 [==============================] - 2424s 14s/step - loss: 42.6013 - accuracy: 0.1413 - mae: 0.2099 - val_loss: 2.5885 - val_accuracy: 0.0182 - val_mae: 0.2266\n",
            "Epoch 2/100\n",
            "172/172 [==============================] - ETA: 0s - loss: 22.7823 - accuracy: 0.0976 - mae: 0.2142\n",
            "Epoch 2: val_accuracy did not improve from 0.01817\n",
            "172/172 [==============================] - 90s 520ms/step - loss: 22.7823 - accuracy: 0.0976 - mae: 0.2142 - val_loss: 2.2068 - val_accuracy: 0.0051 - val_mae: 0.2222\n",
            "Epoch 3/100\n",
            "172/172 [==============================] - ETA: 0s - loss: 14.6125 - accuracy: 0.0438 - mae: 0.2197\n",
            "Epoch 3: val_accuracy improved from 0.01817 to 0.02326, saving model to vgg16_base_res.h5\n",
            "172/172 [==============================] - 95s 549ms/step - loss: 14.6125 - accuracy: 0.0438 - mae: 0.2197 - val_loss: 2.1164 - val_accuracy: 0.0233 - val_mae: 0.2198\n",
            "Epoch 4/100\n",
            "172/172 [==============================] - ETA: 0s - loss: 14.5625 - accuracy: 0.0717 - mae: 0.2186\n",
            "Epoch 4: val_accuracy did not improve from 0.02326\n",
            "172/172 [==============================] - 88s 513ms/step - loss: 14.5625 - accuracy: 0.0717 - mae: 0.2186 - val_loss: 2.2434 - val_accuracy: 0.0015 - val_mae: 0.2233\n",
            "Epoch 5/100\n",
            "172/172 [==============================] - ETA: 0s - loss: 14.2791 - accuracy: 0.0582 - mae: 0.2184\n",
            "Epoch 5: val_accuracy did not improve from 0.02326\n",
            "172/172 [==============================] - 87s 503ms/step - loss: 14.2791 - accuracy: 0.0582 - mae: 0.2184 - val_loss: 2.1064 - val_accuracy: 0.0015 - val_mae: 0.2196\n",
            "Epoch 6/100\n",
            "172/172 [==============================] - ETA: 0s - loss: 13.9978 - accuracy: 0.0011 - mae: 0.2208    \n",
            "Epoch 6: val_accuracy did not improve from 0.02326\n",
            "172/172 [==============================] - 87s 505ms/step - loss: 13.9978 - accuracy: 0.0011 - mae: 0.2208 - val_loss: 2.0804 - val_accuracy: 0.0015 - val_mae: 0.2188\n",
            "Epoch 7/100\n",
            "172/172 [==============================] - ETA: 0s - loss: 13.9059 - accuracy: 0.0026 - mae: 0.2187\n",
            "Epoch 7: val_accuracy did not improve from 0.02326\n",
            "172/172 [==============================] - 86s 498ms/step - loss: 13.9059 - accuracy: 0.0026 - mae: 0.2187 - val_loss: 2.0798 - val_accuracy: 0.0015 - val_mae: 0.2188\n",
            "Epoch 8/100\n",
            "172/172 [==============================] - ETA: 0s - loss: 13.8850 - accuracy: 0.0029 - mae: 0.2188\n",
            "Epoch 8: val_accuracy did not improve from 0.02326\n",
            "172/172 [==============================] - 87s 504ms/step - loss: 13.8850 - accuracy: 0.0029 - mae: 0.2188 - val_loss: 2.0820 - val_accuracy: 0.0015 - val_mae: 0.2188\n",
            "Epoch 9/100\n",
            "172/172 [==============================] - ETA: 0s - loss: 13.8961 - accuracy: 7.2953e-04 - mae: 0.2188\n",
            "Epoch 9: val_accuracy did not improve from 0.02326\n",
            "172/172 [==============================] - 88s 508ms/step - loss: 13.8961 - accuracy: 7.2953e-04 - mae: 0.2188 - val_loss: 2.0829 - val_accuracy: 0.0015 - val_mae: 0.2189\n",
            "Epoch 10/100\n",
            "172/172 [==============================] - ETA: 0s - loss: 13.8258 - accuracy: 0.0020 - mae: 0.2188\n",
            "Epoch 10: val_accuracy did not improve from 0.02326\n",
            "172/172 [==============================] - 93s 537ms/step - loss: 13.8258 - accuracy: 0.0020 - mae: 0.2188 - val_loss: 2.0824 - val_accuracy: 0.0015 - val_mae: 0.2188\n",
            "Epoch 11/100\n",
            "172/172 [==============================] - ETA: 0s - loss: 13.8627 - accuracy: 0.0024 - mae: 0.2188\n",
            "Epoch 11: val_accuracy did not improve from 0.02326\n",
            "172/172 [==============================] - 87s 504ms/step - loss: 13.8627 - accuracy: 0.0024 - mae: 0.2188 - val_loss: 2.0808 - val_accuracy: 0.0015 - val_mae: 0.2188\n",
            "Epoch 12/100\n",
            "172/172 [==============================] - ETA: 0s - loss: 13.9345 - accuracy: 0.0046 - mae: 0.2187\n",
            "Epoch 12: val_accuracy did not improve from 0.02326\n",
            "172/172 [==============================] - 85s 493ms/step - loss: 13.9345 - accuracy: 0.0046 - mae: 0.2187 - val_loss: 2.0803 - val_accuracy: 0.0015 - val_mae: 0.2188\n",
            "Epoch 13/100\n",
            "172/172 [==============================] - ETA: 0s - loss: 13.9299 - accuracy: 7.2953e-04 - mae: 0.2188\n",
            "Epoch 13: val_accuracy did not improve from 0.02326\n",
            "172/172 [==============================] - 87s 503ms/step - loss: 13.9299 - accuracy: 7.2953e-04 - mae: 0.2188 - val_loss: 2.0826 - val_accuracy: 0.0015 - val_mae: 0.2188\n",
            "Epoch 14/100\n",
            "172/172 [==============================] - ETA: 0s - loss: 13.8992 - accuracy: 7.2953e-04 - mae: 0.2189\n",
            "Epoch 14: val_accuracy did not improve from 0.02326\n",
            "172/172 [==============================] - 87s 503ms/step - loss: 13.8992 - accuracy: 7.2953e-04 - mae: 0.2189 - val_loss: 2.0798 - val_accuracy: 0.0015 - val_mae: 0.2188\n",
            "Epoch 15/100\n",
            "172/172 [==============================] - ETA: 0s - loss: 13.8394 - accuracy: 0.0020 - mae: 0.2188\n",
            "Epoch 15: val_accuracy did not improve from 0.02326\n",
            "172/172 [==============================] - 87s 505ms/step - loss: 13.8394 - accuracy: 0.0020 - mae: 0.2188 - val_loss: 2.0805 - val_accuracy: 0.0015 - val_mae: 0.2188\n",
            "Epoch 16/100\n",
            "172/172 [==============================] - ETA: 0s - loss: 13.8564 - accuracy: 0.0035 - mae: 0.2187\n",
            "Epoch 16: val_accuracy did not improve from 0.02326\n",
            "172/172 [==============================] - 87s 508ms/step - loss: 13.8564 - accuracy: 0.0035 - mae: 0.2187 - val_loss: 2.0798 - val_accuracy: 0.0051 - val_mae: 0.2188\n",
            "Epoch 17/100\n",
            "172/172 [==============================] - ETA: 0s - loss: 13.8954 - accuracy: 0.0706 - mae: 0.2187\n",
            "Epoch 17: val_accuracy did not improve from 0.02326\n",
            "172/172 [==============================] - 86s 499ms/step - loss: 13.8954 - accuracy: 0.0706 - mae: 0.2187 - val_loss: 2.0821 - val_accuracy: 0.0015 - val_mae: 0.2188\n",
            "Epoch 18/100\n",
            "172/172 [==============================] - ETA: 0s - loss: 13.8193 - accuracy: 5.4715e-04 - mae: 0.2188\n",
            "Epoch 18: val_accuracy did not improve from 0.02326\n",
            "172/172 [==============================] - 86s 498ms/step - loss: 13.8193 - accuracy: 5.4715e-04 - mae: 0.2188 - val_loss: 2.0822 - val_accuracy: 0.0015 - val_mae: 0.2188\n",
            "Epoch 19/100\n",
            "172/172 [==============================] - ETA: 0s - loss: 13.8370 - accuracy: 7.2953e-04 - mae: 0.2189\n",
            "Epoch 19: val_accuracy did not improve from 0.02326\n",
            "172/172 [==============================] - 91s 527ms/step - loss: 13.8370 - accuracy: 7.2953e-04 - mae: 0.2189 - val_loss: 2.0797 - val_accuracy: 0.0015 - val_mae: 0.2188\n",
            "Epoch 20/100\n",
            "172/172 [==============================] - ETA: 0s - loss: 13.8859 - accuracy: 7.2953e-04 - mae: 0.2188\n",
            "Epoch 20: val_accuracy did not improve from 0.02326\n",
            "172/172 [==============================] - 91s 526ms/step - loss: 13.8859 - accuracy: 7.2953e-04 - mae: 0.2188 - val_loss: 2.0809 - val_accuracy: 0.0015 - val_mae: 0.2188\n",
            "Epoch 21/100\n",
            "172/172 [==============================] - ETA: 0s - loss: 13.8962 - accuracy: 0.0117 - mae: 0.2187\n",
            "Epoch 21: val_accuracy did not improve from 0.02326\n",
            "172/172 [==============================] - 87s 506ms/step - loss: 13.8962 - accuracy: 0.0117 - mae: 0.2187 - val_loss: 2.0810 - val_accuracy: 0.0015 - val_mae: 0.2188\n",
            "Epoch 22/100\n",
            "172/172 [==============================] - ETA: 0s - loss: 13.8448 - accuracy: 0.0168 - mae: 0.2188\n",
            "Epoch 22: val_accuracy did not improve from 0.02326\n",
            "172/172 [==============================] - 91s 530ms/step - loss: 13.8448 - accuracy: 0.0168 - mae: 0.2188 - val_loss: 2.0813 - val_accuracy: 0.0015 - val_mae: 0.2188\n",
            "Epoch 23/100\n",
            "172/172 [==============================] - ETA: 0s - loss: 13.8451 - accuracy: 0.0011 - mae: 0.2188\n",
            "Epoch 23: val_accuracy did not improve from 0.02326\n",
            "172/172 [==============================] - 87s 507ms/step - loss: 13.8451 - accuracy: 0.0011 - mae: 0.2188 - val_loss: 2.0800 - val_accuracy: 0.0015 - val_mae: 0.2188\n",
            "Epoch 23: early stopping\n"
          ]
        }
      ],
      "source": [
        "hist = model.fit(traindata, steps_per_epoch=traindata.samples//traindata.batch_size, validation_data=testdata,\n",
        "                 class_weight=class_weights, validation_steps=testdata.samples//testdata.batch_size,\n",
        "                 epochs=100,callbacks=[checkpoint,early])"
      ]
    },
    {
      "cell_type": "code",
      "execution_count": null,
      "metadata": {
        "colab": {
          "background_save": true
        },
        "id": "YsKUswRU3H69",
        "outputId": "29ea881f-da94-46d8-d892-e889726ff6ed"
      },
      "outputs": [
        {
          "data": {
            "image/png": "[encoded data removed]",
            "text/plain": [
              "<Figure size 640x480 with 1 Axes>"
            ]
          },
          "metadata": {},
          "output_type": "display_data"
        },
        {
          "data": {
            "image/png": "[encoded data removed]",
            "text/plain": [
              "<Figure size 640x480 with 1 Axes>"
            ]
          },
          "metadata": {},
          "output_type": "display_data"
        },
        {
          "data": {
            "image/png": "[encoded data removed]",
            "text/plain": [
              "<Figure size 640x480 with 1 Axes>"
            ]
          },
          "metadata": {},
          "output_type": "display_data"
        }
      ],
      "source": [
        "plt.plot(hist.history['loss'], label='train')\n",
        "plt.plot(hist.history['val_loss'], label='val')\n",
        "plt.title('VGG16: Loss and Validation Loss (0.000001 = Adam LR)')\n",
        "plt.legend();\n",
        "plt.show()\n",
        "\n",
        "plt.plot(hist.history['accuracy'], label='train')\n",
        "plt.plot(hist.history['val_accuracy'], label='val')\n",
        "plt.title('VGG16: Accuracy and Validation Accuracy (0.000001 = Adam LR)')\n",
        "plt.legend();\n",
        "plt.show()\n",
        "\n",
        "plt.plot(hist.history['mae'], label='train')\n",
        "plt.plot(hist.history['val_mae'], label='val')\n",
        "plt.title('VGG16: MAE and Validation MAE (0.000001 = Adam LR)')\n",
        "plt.legend();\n",
        "plt.show()"
      ]
    },
    {
      "cell_type": "code",
      "execution_count": null,
      "metadata": {
        "colab": {
          "background_save": true
        },
        "id": "ZrefV0uO8KID",
        "outputId": "76d2e878-cfe0-407f-ee49-34deb93fdbdb"
      },
      "outputs": [
        {
          "name": "stdout",
          "output_type": "stream",
          "text": [
            "44/44 [==============================] - 17s 376ms/step - loss: 2.0800 - accuracy: 0.0014 - mae: 0.2188\n"
          ]
        },
        {
          "data": {
            "text/plain": [
              "[2.079983949661255, 0.0014461316168308258, 0.2187669724225998]"
            ]
          },
          "execution_count": 14,
          "metadata": {},
          "output_type": "execute_result"
        }
      ],
      "source": [
        "model.evaluate(testdata)"
      ]
    },
    {
      "cell_type": "code",
      "execution_count": null,
      "metadata": {
        "colab": {
          "background_save": true
        },
        "id": "KmqWRhkp7lCR"
      },
      "outputs": [],
      "source": [
        "from sklearn.metrics import confusion_matrix, classification_report\n",
        "import seaborn as sns"
      ]
    },
    {
      "cell_type": "code",
      "execution_count": null,
      "metadata": {
        "colab": {
          "background_save": true
        },
        "id": "DQrEuTkD7ljK",
        "outputId": "71013fa8-772b-4453-bc6b-4092477bbd20"
      },
      "outputs": [
        {
          "name": "stdout",
          "output_type": "stream",
          "text": [
            "44/44 [==============================] - 16s 357ms/step\n"
          ]
        }
      ],
      "source": [
        "# predict classes of validation dataset\n",
        "val_predict = model.predict(testdata)"
      ]
    },
    {
      "cell_type": "code",
      "execution_count": null,
      "metadata": {
        "id": "bLlNRoS78kpt"
      },
      "outputs": [],
      "source": [
        "import numpy as np\n"
      ]
    },
    {
      "cell_type": "code",
      "execution_count": null,
      "metadata": {
        "colab": {
          "background_save": true
        },
        "id": "AObr6-557obQ"
      },
      "outputs": [],
      "source": [
        "predict_class = np.argmax(val_predict, axis=1)\n",
        "predict_class = predict_class.tolist()"
      ]
    },
    {
      "cell_type": "code",
      "execution_count": null,
      "metadata": {
        "colab": {
          "background_save": true
        },
        "id": "CPPFcqHC8qHm",
        "outputId": "208a24e6-e90b-4edc-812c-5aa8c0f8fb86"
      },
      "outputs": [
        {
          "name": "stdout",
          "output_type": "stream",
          "text": [
            "                precision    recall  f1-score   support\n",
            "\n",
            "        Asthma       0.00      1.00      0.00         2\n",
            "Bronchiectasis       0.00      0.00      0.00        21\n",
            " Bronchiolitis       0.00      0.00      0.00        32\n",
            "          COPD       0.00      0.00      0.00      1150\n",
            "       Healthy       0.00      0.00      0.00        65\n",
            "          LRTI       0.00      0.00      0.00         7\n",
            "     Pneumonia       0.00      0.00      0.00        57\n",
            "          URTI       0.00      0.00      0.00        49\n",
            "\n",
            "      accuracy                           0.00      1383\n",
            "     macro avg       0.00      0.12      0.00      1383\n",
            "  weighted avg       0.00      0.00      0.00      1383\n",
            "\n"
          ]
        },
        {
          "name": "stderr",
          "output_type": "stream",
          "text": [
            "/usr/local/lib/python3.10/dist-packages/sklearn/metrics/_classification.py:1344: UndefinedMetricWarning: Precision and F-score are ill-defined and being set to 0.0 in labels with no predicted samples. Use `zero_division` parameter to control this behavior.\n",
            "  _warn_prf(average, modifier, msg_start, len(result))\n",
            "/usr/local/lib/python3.10/dist-packages/sklearn/metrics/_classification.py:1344: UndefinedMetricWarning: Precision and F-score are ill-defined and being set to 0.0 in labels with no predicted samples. Use `zero_division` parameter to control this behavior.\n",
            "  _warn_prf(average, modifier, msg_start, len(result))\n",
            "/usr/local/lib/python3.10/dist-packages/sklearn/metrics/_classification.py:1344: UndefinedMetricWarning: Precision and F-score are ill-defined and being set to 0.0 in labels with no predicted samples. Use `zero_division` parameter to control this behavior.\n",
            "  _warn_prf(average, modifier, msg_start, len(result))\n"
          ]
        }
      ],
      "source": [
        "labels = ['Asthma','Bronchiectasis','Bronchiolitis','COPD','Healthy','LRTI','Pneumonia','URTI']\n",
        "report = classification_report(testdata.classes, predict_class, target_names=labels)\n",
        "print(report)"
      ]
    },
    {
      "cell_type": "code",
      "execution_count": null,
      "metadata": {
        "id": "t_CPEDgm9paD"
      },
      "outputs": [],
      "source": [
        "cm = confusion_matrix(testdata.classes, predict_class)\n",
        "cm_df = pd.DataFrame(cm,\n",
        "                     index = ['Asthma','Bronchiectasis','Bronchiolitis','COPD','Healthy','LRTI','Pneumonia','URTI'],\n",
        "                     columns = ['Asthma','Bronchiectasis','Bronchiolitis','COPD','Healthy','LRTI','Pneumonia','URTI'])"
      ]
    },
    {
      "cell_type": "code",
      "execution_count": null,
      "metadata": {
        "id": "K-juq-2K95Mu"
      },
      "outputs": [],
      "source": [
        "plt.figure(figsize=(8,6))\n",
        "sns.heatmap(cm_df, annot=True, fmt='d')\n",
        "plt.title(\"Confusion Matrixx\")\n",
        "plt.xlabel(\"Predicted\")\n",
        "plt.ylabel(\"Actual\")\n",
        "plt.show()"
      ]
    },
    {
      "cell_type": "code",
      "execution_count": null,
      "metadata": {
        "id": "jIoUS_il95Hf"
      },
      "outputs": [],
      "source": []
    }
  ],
  "metadata": {
    "accelerator": "GPU",
    "colab": {
      "provenance": []
    },
    "gpuClass": "standard",
    "kernelspec": {
      "display_name": "Python 3",
      "name": "python3"
    },
    "language_info": {
      "name": "python"
    }
  },
  "nbformat": 4,
  "nbformat_minor": 0
}