{
  "cells": [
    {
      "cell_type": "code",
      "execution_count": null,
      "metadata": {
        "_cell_guid": "b1076dfc-b9ad-4769-8c92-a6c4dae69d19",
        "_uuid": "8f2839f25d086af736a60e9eeb907d3b93b6e0e5",
        "id": "_zx3p6KdItiW",
        "outputId": "042588fd-9263-4c26-9e72-7f683c61edd2"
      },
      "outputs": [
        {
          "name": "stdout",
          "output_type": "stream",
          "text": [
            "\u001b[34mAsthma\u001b[m\u001b[m         \u001b[34mBronchiolitis\u001b[m\u001b[m  \u001b[34mHealthy\u001b[m\u001b[m        \u001b[34mPneumonia\u001b[m\u001b[m\n",
            "\u001b[34mBronchiectasis\u001b[m\u001b[m \u001b[34mCOPD\u001b[m\u001b[m           \u001b[34mLRTI\u001b[m\u001b[m           \u001b[34mURTI\u001b[m\u001b[m\n"
          ]
        }
      ],
      "source": [
        "!ls 'output1/'"
      ]
    },
    {
      "cell_type": "code",
      "execution_count": null,
      "metadata": {
        "tags": [],
        "id": "CplefqjlItiX",
        "outputId": "6aa9d81a-9c8d-47e5-a237-c920994b8e43"
      },
      "outputs": [
        {
          "name": "stdout",
          "output_type": "stream",
          "text": [
            "Requirement already satisfied: split_folders in /Library/Frameworks/Python.framework/Versions/3.10/lib/python3.10/site-packages (0.5.1)\n",
            "Note: you may need to restart the kernel to use updated packages.\n"
          ]
        }
      ],
      "source": [
        "pip install split_folders\n"
      ]
    },
    {
      "cell_type": "code",
      "execution_count": null,
      "metadata": {
        "tags": [],
        "id": "hKLAlExgItiX"
      },
      "outputs": [],
      "source": [
        "import splitfolders\n",
        "import os"
      ]
    },
    {
      "cell_type": "code",
      "execution_count": null,
      "metadata": {
        "tags": [],
        "id": "6aJTNEgZItiY"
      },
      "outputs": [],
      "source": [
        "os.makedirs('output2')\n",
        "os.makedirs('output2/train')\n",
        "os.makedirs('output2/val')"
      ]
    },
    {
      "cell_type": "code",
      "execution_count": null,
      "metadata": {
        "tags": [],
        "id": "GO7WYXPAItiY"
      },
      "outputs": [],
      "source": [
        "audio_loc = 'output1/'\n",
        "\n",
        "splitfolders.ratio(audio_loc, output='output2', seed=1337, ratio=(0.8, 0.2))"
      ]
    },
    {
      "cell_type": "code",
      "execution_count": null,
      "metadata": {
        "id": "qnMEZlctItiY"
      },
      "outputs": [],
      "source": []
    }
  ],
  "metadata": {
    "kernelspec": {
      "display_name": "Python 3 (ipykernel)",
      "language": "python",
      "name": "python3"
    },
    "language_info": {
      "codemirror_mode": {
        "name": "ipython",
        "version": 3
      },
      "file_extension": ".py",
      "mimetype": "text/x-python",
      "name": "python",
      "nbconvert_exporter": "python",
      "pygments_lexer": "ipython3",
      "version": "3.10.5"
    },
    "colab": {
      "provenance": []
    }
  },
  "nbformat": 4,
  "nbformat_minor": 0
}